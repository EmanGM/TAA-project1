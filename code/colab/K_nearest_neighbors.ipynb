{
  "nbformat": 4,
  "nbformat_minor": 0,
  "metadata": {
    "colab": {
      "provenance": []
    },
    "kernelspec": {
      "name": "python3",
      "display_name": "Python 3"
    },
    "language_info": {
      "name": "python"
    }
  },
  "cells": [
    {
      "cell_type": "code",
      "execution_count": 78,
      "metadata": {
        "id": "JxpcE8N_sYe3"
      },
      "outputs": [],
      "source": [
        "import numpy as np\n",
        "import pandas as pd\n",
        "import matplotlib.pyplot as plt\n",
        "from sklearn.neighbors import KNeighborsClassifier\n",
        "from sklearn.metrics import accuracy_score, f1_score, classification_report\n",
        "from PIL import Image\n",
        "import os"
      ]
    },
    {
      "cell_type": "code",
      "source": [
        "from google.colab import drive\n",
        "drive.mount('/content/drive')"
      ],
      "metadata": {
        "colab": {
          "base_uri": "https://localhost:8080/"
        },
        "id": "QFjO02hptNST",
        "outputId": "f0183f79-3771-4369-d064-f0305336bad7"
      },
      "execution_count": 2,
      "outputs": [
        {
          "output_type": "stream",
          "name": "stdout",
          "text": [
            "Mounted at /content/drive\n"
          ]
        }
      ]
    },
    {
      "cell_type": "code",
      "source": [
        "initial_path = \"/content/drive/MyDrive\"\n",
        "train_path = initial_path + \"/archive/train/\"\n",
        "test_path = initial_path + \"/archive/test/\"\n",
        "\n",
        "images = []\n",
        "labels = []\n",
        "images_test = []\n",
        "labels_test = []\n",
        "\n",
        "for label in range(0, 43):\n",
        "    full_path = train_path + str(label) + \"/\"\n",
        "    for file in os.listdir(full_path):\n",
        "        img = Image.open(full_path + file)\n",
        "        #needs to resize\n",
        "        img = img.resize((30, 30))\n",
        "        img = img.convert('L')\n",
        "\n",
        "        numpydata = np.asarray(img)\n",
        "        images.append(numpydata)\n",
        "        labels.append(label)"
      ],
      "metadata": {
        "id": "pT5DEAeZtVvk"
      },
      "execution_count": 48,
      "outputs": []
    },
    {
      "cell_type": "code",
      "source": [
        "with open(initial_path + \"/archive/Test.csv\") as file:\n",
        "  for image_metadata in file:\n",
        "    if image_metadata.startswith(\"Width\"):\n",
        "      continue\n",
        "    metadata = image_metadata.strip().split(\",\")\n",
        "    img = Image.open(test_path + metadata[7][5:])\n",
        "    img = img.resize((30, 30))\n",
        "    img = img.convert('L')\n",
        "    numpydata = np.asarray(img)\n",
        "    images_test.append(numpydata)\n",
        "    labels_test.append(int(metadata[6]))\n",
        "\n",
        "X_Images = np.array(images)\n",
        "y_Labels = np.array(labels)\n",
        "X_Images_test = np.array(images_test)\n",
        "y_Labels_test = np.array(labels_test)\n",
        "print(X_Images.shape, y_Labels.shape)"
      ],
      "metadata": {
        "colab": {
          "base_uri": "https://localhost:8080/"
        },
        "id": "DODMyX4htbOh",
        "outputId": "a559f02a-2b32-4b30-86be-dde0934577dd"
      },
      "execution_count": 49,
      "outputs": [
        {
          "output_type": "stream",
          "name": "stdout",
          "text": [
            "(39230, 30, 30) (39230,)\n"
          ]
        }
      ]
    },
    {
      "cell_type": "code",
      "source": [
        "X_Images = X_Images/255\n",
        "X_Images_test = X_Images_test/255"
      ],
      "metadata": {
        "id": "wT1wypuj1Ax0"
      },
      "execution_count": 50,
      "outputs": []
    },
    {
      "cell_type": "code",
      "source": [
        "y_Labels = y_Labels.reshape(-1, 1)\n",
        "print(y_Labels.shape)\n",
        "y_Labels_test = y_Labels_test.reshape(-1, 1)\n",
        "print(y_Labels_test.shape)"
      ],
      "metadata": {
        "colab": {
          "base_uri": "https://localhost:8080/"
        },
        "id": "kd1iAHVuthAp",
        "outputId": "be777f9a-3a34-47a5-8406-e7648e17cb6d"
      },
      "execution_count": 21,
      "outputs": [
        {
          "output_type": "stream",
          "name": "stdout",
          "text": [
            "(39230, 1)\n",
            "(37890, 1)\n"
          ]
        }
      ]
    },
    {
      "cell_type": "code",
      "source": [
        "knn = KNeighborsClassifier(n_neighbors=3)\n",
        "X_Images = X_Images.reshape(X_Images.shape[0], -1)\n",
        "print(X_Images.shape)\n",
        "knn.fit(X_Images, y_Labels)"
      ],
      "metadata": {
        "colab": {
          "base_uri": "https://localhost:8080/",
          "height": 92
        },
        "id": "zJEAB-EYuF8h",
        "outputId": "7cc56bab-3b06-44c7-8ab8-68c43254c7a6"
      },
      "execution_count": 52,
      "outputs": [
        {
          "output_type": "stream",
          "name": "stdout",
          "text": [
            "(39230, 900)\n"
          ]
        },
        {
          "output_type": "execute_result",
          "data": {
            "text/plain": [
              "KNeighborsClassifier(n_neighbors=3)"
            ],
            "text/html": [
              "<style>#sk-container-id-8 {color: black;background-color: white;}#sk-container-id-8 pre{padding: 0;}#sk-container-id-8 div.sk-toggleable {background-color: white;}#sk-container-id-8 label.sk-toggleable__label {cursor: pointer;display: block;width: 100%;margin-bottom: 0;padding: 0.3em;box-sizing: border-box;text-align: center;}#sk-container-id-8 label.sk-toggleable__label-arrow:before {content: \"▸\";float: left;margin-right: 0.25em;color: #696969;}#sk-container-id-8 label.sk-toggleable__label-arrow:hover:before {color: black;}#sk-container-id-8 div.sk-estimator:hover label.sk-toggleable__label-arrow:before {color: black;}#sk-container-id-8 div.sk-toggleable__content {max-height: 0;max-width: 0;overflow: hidden;text-align: left;background-color: #f0f8ff;}#sk-container-id-8 div.sk-toggleable__content pre {margin: 0.2em;color: black;border-radius: 0.25em;background-color: #f0f8ff;}#sk-container-id-8 input.sk-toggleable__control:checked~div.sk-toggleable__content {max-height: 200px;max-width: 100%;overflow: auto;}#sk-container-id-8 input.sk-toggleable__control:checked~label.sk-toggleable__label-arrow:before {content: \"▾\";}#sk-container-id-8 div.sk-estimator input.sk-toggleable__control:checked~label.sk-toggleable__label {background-color: #d4ebff;}#sk-container-id-8 div.sk-label input.sk-toggleable__control:checked~label.sk-toggleable__label {background-color: #d4ebff;}#sk-container-id-8 input.sk-hidden--visually {border: 0;clip: rect(1px 1px 1px 1px);clip: rect(1px, 1px, 1px, 1px);height: 1px;margin: -1px;overflow: hidden;padding: 0;position: absolute;width: 1px;}#sk-container-id-8 div.sk-estimator {font-family: monospace;background-color: #f0f8ff;border: 1px dotted black;border-radius: 0.25em;box-sizing: border-box;margin-bottom: 0.5em;}#sk-container-id-8 div.sk-estimator:hover {background-color: #d4ebff;}#sk-container-id-8 div.sk-parallel-item::after {content: \"\";width: 100%;border-bottom: 1px solid gray;flex-grow: 1;}#sk-container-id-8 div.sk-label:hover label.sk-toggleable__label {background-color: #d4ebff;}#sk-container-id-8 div.sk-serial::before {content: \"\";position: absolute;border-left: 1px solid gray;box-sizing: border-box;top: 0;bottom: 0;left: 50%;z-index: 0;}#sk-container-id-8 div.sk-serial {display: flex;flex-direction: column;align-items: center;background-color: white;padding-right: 0.2em;padding-left: 0.2em;position: relative;}#sk-container-id-8 div.sk-item {position: relative;z-index: 1;}#sk-container-id-8 div.sk-parallel {display: flex;align-items: stretch;justify-content: center;background-color: white;position: relative;}#sk-container-id-8 div.sk-item::before, #sk-container-id-8 div.sk-parallel-item::before {content: \"\";position: absolute;border-left: 1px solid gray;box-sizing: border-box;top: 0;bottom: 0;left: 50%;z-index: -1;}#sk-container-id-8 div.sk-parallel-item {display: flex;flex-direction: column;z-index: 1;position: relative;background-color: white;}#sk-container-id-8 div.sk-parallel-item:first-child::after {align-self: flex-end;width: 50%;}#sk-container-id-8 div.sk-parallel-item:last-child::after {align-self: flex-start;width: 50%;}#sk-container-id-8 div.sk-parallel-item:only-child::after {width: 0;}#sk-container-id-8 div.sk-dashed-wrapped {border: 1px dashed gray;margin: 0 0.4em 0.5em 0.4em;box-sizing: border-box;padding-bottom: 0.4em;background-color: white;}#sk-container-id-8 div.sk-label label {font-family: monospace;font-weight: bold;display: inline-block;line-height: 1.2em;}#sk-container-id-8 div.sk-label-container {text-align: center;}#sk-container-id-8 div.sk-container {/* jupyter's `normalize.less` sets `[hidden] { display: none; }` but bootstrap.min.css set `[hidden] { display: none !important; }` so we also need the `!important` here to be able to override the default hidden behavior on the sphinx rendered scikit-learn.org. See: https://github.com/scikit-learn/scikit-learn/issues/21755 */display: inline-block !important;position: relative;}#sk-container-id-8 div.sk-text-repr-fallback {display: none;}</style><div id=\"sk-container-id-8\" class=\"sk-top-container\"><div class=\"sk-text-repr-fallback\"><pre>KNeighborsClassifier(n_neighbors=3)</pre><b>In a Jupyter environment, please rerun this cell to show the HTML representation or trust the notebook. <br />On GitHub, the HTML representation is unable to render, please try loading this page with nbviewer.org.</b></div><div class=\"sk-container\" hidden><div class=\"sk-item\"><div class=\"sk-estimator sk-toggleable\"><input class=\"sk-toggleable__control sk-hidden--visually\" id=\"sk-estimator-id-8\" type=\"checkbox\" checked><label for=\"sk-estimator-id-8\" class=\"sk-toggleable__label sk-toggleable__label-arrow\">KNeighborsClassifier</label><div class=\"sk-toggleable__content\"><pre>KNeighborsClassifier(n_neighbors=3)</pre></div></div></div></div></div>"
            ]
          },
          "metadata": {},
          "execution_count": 52
        }
      ]
    },
    {
      "cell_type": "markdown",
      "source": [
        "## Predict"
      ],
      "metadata": {
        "id": "4IyosnAvuqxQ"
      }
    },
    {
      "cell_type": "code",
      "source": [
        "X_test = X_Images_test.reshape(X_Images_test.shape[0], -1)\n",
        "y_pred = knn.predict(X_test)\n",
        "print(y_pred)\n",
        "\n",
        "s = f1_score(y_pred, y_Labels_test, average='micro')\n",
        "print(s)"
      ],
      "metadata": {
        "colab": {
          "base_uri": "https://localhost:8080/"
        },
        "id": "ldJBOZUjupxV",
        "outputId": "98ab07ba-8565-4b0c-a1fd-7757598e9129"
      },
      "execution_count": 53,
      "outputs": [
        {
          "output_type": "stream",
          "name": "stdout",
          "text": [
            "[16  4 36 ...  3 16 10]\n",
            "0.36959619952494055\n"
          ]
        }
      ]
    },
    {
      "cell_type": "code",
      "source": [
        "scores = []\n",
        "for i in range(1, 26):\n",
        "  knn = KNeighborsClassifier(n_neighbors=i)\n",
        "  knn.fit(X_Images, y_Labels)\n",
        "  y_pred = knn.predict(X_test)\n",
        "  new_score = f1_score(y_pred, y_Labels_test, average='micro')\n",
        "  scores.append(new_score)"
      ],
      "metadata": {
        "id": "kNJ3o59p47L0"
      },
      "execution_count": 74,
      "outputs": []
    },
    {
      "cell_type": "code",
      "source": [
        "#print(scores)\n",
        "plt.plot(range(1, 26), scores, marker = \"o\")\n",
        "plt.title(\"Finding best k\")\n",
        "plt.xlabel(\"k values\")\n",
        "plt.ylabel(\"F1 score\")\n",
        "plt.xticks(range(1, 26))"
      ],
      "metadata": {
        "colab": {
          "base_uri": "https://localhost:8080/",
          "height": 1000
        },
        "id": "3c3VLmvk5Ri7",
        "outputId": "e13672c8-7901-4a15-f006-298b9eb26db7"
      },
      "execution_count": 76,
      "outputs": [
        {
          "output_type": "execute_result",
          "data": {
            "text/plain": [
              "([<matplotlib.axis.XTick at 0x7f8e74cd53c0>,\n",
              "  <matplotlib.axis.XTick at 0x7f8e74cd5390>,\n",
              "  <matplotlib.axis.XTick at 0x7f8e74cd52a0>,\n",
              "  <matplotlib.axis.XTick at 0x7f8e74dc0a00>,\n",
              "  <matplotlib.axis.XTick at 0x7f8e74cf9ae0>,\n",
              "  <matplotlib.axis.XTick at 0x7f8e74cfa2c0>,\n",
              "  <matplotlib.axis.XTick at 0x7f8e74cf9840>,\n",
              "  <matplotlib.axis.XTick at 0x7f8e74cfaa10>,\n",
              "  <matplotlib.axis.XTick at 0x7f8e74cfb1f0>,\n",
              "  <matplotlib.axis.XTick at 0x7f8e74cfb9d0>,\n",
              "  <matplotlib.axis.XTick at 0x7f8e74cfb2b0>,\n",
              "  <matplotlib.axis.XTick at 0x7f8e74cfb790>,\n",
              "  <matplotlib.axis.XTick at 0x7f8e74cfa740>,\n",
              "  <matplotlib.axis.XTick at 0x7f8e74d20d30>,\n",
              "  <matplotlib.axis.XTick at 0x7f8e74d21510>,\n",
              "  <matplotlib.axis.XTick at 0x7f8e74d21cf0>,\n",
              "  <matplotlib.axis.XTick at 0x7f8e74cfb340>,\n",
              "  <matplotlib.axis.XTick at 0x7f8e74d212d0>,\n",
              "  <matplotlib.axis.XTick at 0x7f8e74d22710>,\n",
              "  <matplotlib.axis.XTick at 0x7f8e74d22ef0>,\n",
              "  <matplotlib.axis.XTick at 0x7f8e74d236d0>,\n",
              "  <matplotlib.axis.XTick at 0x7f8e74d23eb0>,\n",
              "  <matplotlib.axis.XTick at 0x7f8e74d22ce0>,\n",
              "  <matplotlib.axis.XTick at 0x7f8e74d23f70>,\n",
              "  <matplotlib.axis.XTick at 0x7f8e74d48880>],\n",
              " [Text(1, 0, '1'),\n",
              "  Text(2, 0, '2'),\n",
              "  Text(3, 0, '3'),\n",
              "  Text(4, 0, '4'),\n",
              "  Text(5, 0, '5'),\n",
              "  Text(6, 0, '6'),\n",
              "  Text(7, 0, '7'),\n",
              "  Text(8, 0, '8'),\n",
              "  Text(9, 0, '9'),\n",
              "  Text(10, 0, '10'),\n",
              "  Text(11, 0, '11'),\n",
              "  Text(12, 0, '12'),\n",
              "  Text(13, 0, '13'),\n",
              "  Text(14, 0, '14'),\n",
              "  Text(15, 0, '15'),\n",
              "  Text(16, 0, '16'),\n",
              "  Text(17, 0, '17'),\n",
              "  Text(18, 0, '18'),\n",
              "  Text(19, 0, '19'),\n",
              "  Text(20, 0, '20'),\n",
              "  Text(21, 0, '21'),\n",
              "  Text(22, 0, '22'),\n",
              "  Text(23, 0, '23'),\n",
              "  Text(24, 0, '24'),\n",
              "  Text(25, 0, '25')])"
            ]
          },
          "metadata": {},
          "execution_count": 76
        },
        {
          "output_type": "display_data",
          "data": {
            "text/plain": [
              "<Figure size 640x480 with 1 Axes>"
            ],
            "image/png": "[encoded data removed]"
          },
          "metadata": {}
        }
      ]
    },
    {
      "cell_type": "code",
      "source": [
        "knn = KNeighborsClassifier(n_neighbors=1)\n",
        "knn.fit(X_Images, y_Labels)\n",
        "y_pred = knn.predict(X_test)\n",
        "\n",
        "print(classification_report(y_Labels_test, y_pred))"
      ],
      "metadata": {
        "colab": {
          "base_uri": "https://localhost:8080/"
        },
        "id": "9ljomYl71ty2",
        "outputId": "8fe32bc0-9029-44e8-848d-77845f0fc34a"
      },
      "execution_count": 80,
      "outputs": [
        {
          "output_type": "stream",
          "name": "stdout",
          "text": [
            "              precision    recall  f1-score   support\n",
            "\n",
            "           0       0.21      0.28      0.24        60\n",
            "           1       0.33      0.33      0.33       720\n",
            "           2       0.28      0.26      0.27       750\n",
            "           3       0.13      0.16      0.15       450\n",
            "           4       0.30      0.36      0.33       660\n",
            "           5       0.22      0.38      0.28       630\n",
            "           6       0.63      0.46      0.53       150\n",
            "           7       0.23      0.37      0.28       450\n",
            "           8       0.29      0.34      0.31       450\n",
            "           9       0.50      0.27      0.35       480\n",
            "          10       0.51      0.63      0.56       660\n",
            "          11       0.55      0.35      0.43       420\n",
            "          12       0.59      0.49      0.53       690\n",
            "          13       0.80      0.86      0.83       720\n",
            "          14       0.77      0.25      0.38       270\n",
            "          15       0.23      0.26      0.24       210\n",
            "          16       0.67      0.82      0.74       150\n",
            "          17       0.86      0.59      0.70       360\n",
            "          18       0.24      0.30      0.27       390\n",
            "          19       0.06      0.07      0.06        60\n",
            "          20       0.24      0.31      0.27        90\n",
            "          21       0.33      0.14      0.20        90\n",
            "          22       0.50      0.48      0.49       120\n",
            "          23       0.16      0.18      0.17       150\n",
            "          24       0.09      0.06      0.07        90\n",
            "          25       0.31      0.26      0.28       480\n",
            "          26       0.42      0.42      0.42       180\n",
            "          27       0.00      0.00      0.00        60\n",
            "          28       0.26      0.19      0.22       150\n",
            "          29       0.44      0.36      0.39        90\n",
            "          30       0.05      0.02      0.03       150\n",
            "          31       0.33      0.49      0.39       270\n",
            "          32       0.20      0.33      0.25        60\n",
            "          33       0.82      0.23      0.36       210\n",
            "          34       0.15      0.12      0.14       120\n",
            "          35       0.48      0.29      0.36       390\n",
            "          36       0.19      0.21      0.20       120\n",
            "          37       0.45      0.17      0.24        60\n",
            "          38       0.51      0.43      0.47       690\n",
            "          39       1.00      0.41      0.58        90\n",
            "          40       0.18      0.19      0.18        90\n",
            "          41       0.31      0.37      0.34        60\n",
            "          42       0.44      0.44      0.44        90\n",
            "\n",
            "    accuracy                           0.38     12630\n",
            "   macro avg       0.38      0.32      0.33     12630\n",
            "weighted avg       0.41      0.38      0.38     12630\n",
            "\n"
          ]
        }
      ]
    }
  ]
}