{
 "cells": [
  {
   "cell_type": "code",
   "execution_count": 12,
   "id": "1e3222d3",
   "metadata": {
    "scrolled": false
   },
   "outputs": [
    {
     "data": {
      "text/plain": [
       "([<matplotlib.patches.Wedge at 0x7f97cf33fc10>,\n",
       "  <matplotlib.patches.Wedge at 0x7f97cda1bc70>,\n",
       "  <matplotlib.patches.Wedge at 0x7f97cda2a190>,\n",
       "  <matplotlib.patches.Wedge at 0x7f97cda2a670>],\n",
       " [Text(0.22909651864138758, 1.0758786107858065, 'less than 40x40'),\n",
       "  Text(-0.5764701997835255, -0.9368468971830682, 'less than 80x80'),\n",
       "  Text(0.9654382738144976, -0.5271896617481068, 'less than 100x100'),\n",
       "  Text(1.0862974710336615, -0.17308322976496465, 'more than 100x100')])"
      ]
     },
     "execution_count": 12,
     "metadata": {},
     "output_type": "execute_result"
    },
    {
     "data": {
      "image/png": "[encoded data removed]",
      "text/plain": [
       "<Figure size 640x480 with 1 Axes>"
      ]
     },
     "metadata": {},
     "output_type": "display_data"
    }
   ],
   "source": [
    "import numpy as np\n",
    "import matplotlib.pyplot as plt\n",
    "from collections import Counter, OrderedDict\n",
    "\n",
    "\n",
    "# Related to train\n",
    "# -------------------------------------------------------\n",
    "train_dataset = []\n",
    "train_dimensions = []\n",
    "with open(\"../archive/Train.csv\", \"r\") as train_stats:\n",
    "    for line in train_stats:\n",
    "        if not line.startswith(\"Width\"):\n",
    "            columns = line.split(\",\")\n",
    "            train_dataset.append(int(columns[-2]))\n",
    "            train_dimensions.append(int(columns[0]) * int(columns[0]))\n",
    "\n",
    "train_dimensions = np.array(train_dimensions)\n",
    "by_pixels = []\n",
    "by_pixels.append((train_dimensions <= 40*40).sum())\n",
    "by_pixels.append(len([i for i in train_dimensions if 40*40 < i <= 80*80]))\n",
    "by_pixels.append(len([i for i in train_dimensions if 80*80 < i <= 100*100]))\n",
    "by_pixels.append((train_dimensions > 100*100).sum())\n",
    "fig, ax = plt.subplots()\n",
    "ax.pie(by_pixels, labels=[\"less than 40x40\", \"less than 80x80\", \"less than 100x100\", \"more than 100x100\"], autopct='%1.1f%%')"
   ]
  },
  {
   "cell_type": "code",
   "execution_count": null,
   "id": "06fc7da4",
   "metadata": {},
   "outputs": [],
   "source": [
    "print(\"Number of images to train:\", len(train_dataset))\n",
    "counter = dict(Counter(train_dataset))\n",
    "keys = list(counter.keys())\n",
    "values = list(counter.values())\n",
    "sorted_value_index = np.argsort(values)[::-1]\n",
    "for i in sorted_value_index:\n",
    "    #print(\"{:2}\\t{}\".format(keys[i], values[i]))\n",
    "    continue\n",
    "values.sort(reverse=True)\n",
    "plt.bar(range(0,43), values)\n",
    "plt.xticks(range(0,43), sorted_value_index)\n",
    "plt.title(\"Number of samples per class on train dataset\")\n",
    "plt.xlabel(\"class ID\")\n",
    "plt.ylabel(\"samples\")\n",
    "#plt.show()"
   ]
  },
  {
   "cell_type": "code",
   "execution_count": 4,
   "id": "ba30cbd2",
   "metadata": {},
   "outputs": [
    {
     "name": "stdout",
     "output_type": "stream",
     "text": [
      "/home/emanuel/Desktop/TAA/trabalho1/code\n"
     ]
    }
   ],
   "source": [
    "import os \n",
    "print(os.getcwd())"
   ]
  },
  {
   "cell_type": "code",
   "execution_count": null,
   "id": "f70ff5c0",
   "metadata": {},
   "outputs": [],
   "source": [
    "# Related to test\n",
    "# -------------------------------------------------------\n",
    "test_classes = []\n",
    "with open(\"trabalho1/archive/Test.csv\", \"r\") as test_stats:\n",
    "    for line in test_stats:\n",
    "        if not line.startswith(\"Width\"):\n",
    "            columns = line.split(\",\")\n",
    "            test_classes.append(int(columns[-2]))\n",
    "\n",
    "print(\"Number of images to test:\", len(test_classes))\n",
    "counter = dict(Counter(test_classes))\n",
    "keys = list(counter.keys())\n",
    "values = list(counter.values())\n",
    "#sorted_value_index = np.argsort(values)[::-1]\n",
    "for i in sorted_value_index:\n",
    "    #print(\"{:2}\\t{}\".format(keys[i], values[i]))\n",
    "    continue\n",
    "values.sort(reverse=True)\n",
    "print(values)\n",
    "plt.bar(range(0,43), values)\n",
    "plt.xticks(range(0,43), sorted_value_index)\n",
    "plt.title(\"Number of samples per class on test dataset\")\n",
    "plt.xlabel(\"class ID\")\n",
    "plt.ylabel(\"samples\")\n",
    "plt.show()\n",
    "\n",
    "print(len(test_classes) / (len(train_dataset) + len(test_classes)) * 100)"
   ]
  }
 ],
 "metadata": {
  "kernelspec": {
   "display_name": "Python 3 (ipykernel)",
   "language": "python",
   "name": "python3"
  },
  "language_info": {
   "codemirror_mode": {
    "name": "ipython",
    "version": 3
   },
   "file_extension": ".py",
   "mimetype": "text/x-python",
   "name": "python",
   "nbconvert_exporter": "python",
   "pygments_lexer": "ipython3",
   "version": "3.9.13"
  }
 },
 "nbformat": 4,
 "nbformat_minor": 5
}
